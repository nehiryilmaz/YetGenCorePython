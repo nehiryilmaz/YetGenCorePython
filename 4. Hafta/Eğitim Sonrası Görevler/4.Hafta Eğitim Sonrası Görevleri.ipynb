{
 "cells": [
  {
   "cell_type": "markdown",
   "metadata": {},
   "source": [
    "# Problem 1\n",
    "`ogrenciler` adında bir sözlük oluşturunuz. Kullanıcıdan döngü yardımıyla 3 öğrenci için veri girmesini isteyerek öğrencilerin sırasıyla okul numarası, isim, soy isim, telefon numarası ve doğum tarihi bilgilerini alınız. Aldığınız öğrenci bilgilerini yine aynı döngü yardımıyla `ogrenciler` adındaki sözlükte saklayınız. Daha sonra öğrenci bilgilerinin bulunduğu sözlük yapısını ekrana bastırınız.\n",
    "\n"
   ]
  },
  {
   "cell_type": "code",
   "execution_count": 3,
   "metadata": {},
   "outputs": [
    {
     "name": "stdout",
     "output_type": "stream",
     "text": [
      "{'132': {'Okul No': '132', 'İsim': 'Ayşe', 'Soyisim': 'Keskin', 'Telefon Numarası': '0543 754 23 64', 'Doğum Tarihi': '4 Haziran 2005'}, '432': {'Okul No': '432', 'İsim': 'Ali', 'Soyisim': 'Ak', 'Telefon Numarası': '0554 234 11 33', 'Doğum Tarihi': '23 Eylül 2007'}, '743': {'Okul No': '743', 'İsim': 'Batu', 'Soyisim': 'Yıldırım', 'Telefon Numarası': '0544 654 55 48', 'Doğum Tarihi': '10 Mart 1998'}}\n"
     ]
    }
   ],
   "source": [
    "ogrenciler = {}\n",
    "for x in range(1,4) :\n",
    "    okulNo = input(\"Öğrencinin okul numarasını giriniz :\")\n",
    "    isim = input(\"Öğrencinin ismini giriniz :\")\n",
    "    soyIsim = input(\"Öğrencinin soyismini giriniz :\")\n",
    "    telNo = input(\"Öğrencinin telefon numarasını giriniz :\")\n",
    "    dogumTarihi = input(\"Öğrencinin doğum tarihini giriniz :\")\n",
    "    ogrenciler[okulNo] = {\n",
    "    \"Okul No\" : okulNo,\n",
    "    \"İsim\" : isim,\n",
    "    \"Soyisim\" : soyIsim,\n",
    "    \"Telefon Numarası\" : telNo,\n",
    "    \"Doğum Tarihi\" : dogumTarihi\n",
    "    }\n",
    "print(ogrenciler)\n",
    "# 1.Problemin Çözümünü Buraya Yazınız"
   ]
  },
  {
   "cell_type": "markdown",
   "metadata": {},
   "source": [
    "# Problem 2\n",
    "\n",
    "### a - Biraz ısınarak başlayalım!\n",
    "\n",
    "```\n",
    "numbers = [5,10,10,15,15,15,20,20,20,20]\n",
    "```\n",
    "\n",
    "Yukarıda `numbers` adında 10 elemanlı bir liste verilmiştir. Bu listenin her elemanını kontrol eden ve tekrar eden elemanları bir kez olacak şekilde başka bir listeye kopyalayan bir program yazınız. Son olarak oluşturduğunuz listeyi ekrana bastırınız.\n",
    "\n",
    "\n",
    "\n",
    "\n",
    "```\n",
    ">Output\n",
    "[5, 10, 15, 20]\n",
    "```\n"
   ]
  },
  {
   "cell_type": "code",
   "execution_count": 1,
   "metadata": {},
   "outputs": [
    {
     "name": "stdout",
     "output_type": "stream",
     "text": [
      "[5, 10, 15, 20]\n"
     ]
    }
   ],
   "source": [
    "numbers = [5,10,10,15,15,15,20,20,20,20]\n",
    "numbers2  = []\n",
    "for number in numbers :\n",
    "    if number in numbers2 :\n",
    "        continue\n",
    "    else :\n",
    "        numbers2.append(number)\n",
    "print(numbers2)\n",
    "# 2.Problemin a Şıkkının Çözümünü Buraya Yazınız"
   ]
  },
  {
   "cell_type": "markdown",
   "metadata": {},
   "source": [
    "### 🌶️ b) Hadi işi biraz daha zorlaştıralım! \n",
    "\n",
    "\n",
    "Şimdiyse senden `numbers` isimli listedeki tekrar eden elemanları `repeatNumbers` adındaki listeye; tekrar etmeyen elemanları `uniqueNumbers`adındaki listeye kopyalayan yazmanı ve listeleri ekrana bastırmanı bekliyoruz\n",
    "\n",
    "```\n",
    ">Output\n",
    "Tekrar Eden Elemanlar: [10, 10, 15, 15, 15, 20, 20, 20, 20]\n",
    "Tekrar Etmeyen Elemanlar: [5]\n",
    "```"
   ]
  },
  {
   "cell_type": "code",
   "execution_count": 3,
   "metadata": {},
   "outputs": [
    {
     "name": "stdout",
     "output_type": "stream",
     "text": [
      "Tekrar eden elemanlar : [10, 10, 15, 15, 15, 20, 20, 20, 20] \n",
      "Tekar etmeyen elemanlar : [5]\n"
     ]
    }
   ],
   "source": [
    "numbers = [5,10,10,15,15,15,20,20,20,20]\n",
    "repeatNumbers = []\n",
    "uniqueNumbers = []\n",
    "for number in numbers :\n",
    "    if numbers.count(number) == 1 :\n",
    "        uniqueNumbers.append(number)\n",
    "    else :\n",
    "        repeatNumbers.append(number)\n",
    "print(f\"Tekrar eden elemanlar : {repeatNumbers} \")\n",
    "print(f\"Tekar etmeyen elemanlar : {uniqueNumbers}\")\n",
    "# 2.Problemin b Şıkkının Çözümünü Buraya Yazınız"
   ]
  },
  {
   "cell_type": "markdown",
   "metadata": {},
   "source": [
    "# Problem 3\n",
    "sn1 = {1,2,3,4,5}\n",
    "\n",
    "sn2 = {4,5,6,7,8}\n",
    "\n",
    " Verilen 2 adet küme için kesişimlerini, farklarını ve birleşimlerini bulunuz. "
   ]
  },
  {
   "cell_type": "code",
   "execution_count": 5,
   "metadata": {},
   "outputs": [
    {
     "name": "stdout",
     "output_type": "stream",
     "text": [
      "Kesişimleri : {4, 5}\n",
      "sn1 in sn2 den farkı : {1, 2, 3}\n",
      "sn2 in sn1 den farkı : {8, 6, 7}\n",
      "Birleşimleri : {1, 2, 3, 4, 5, 6, 7, 8}\n"
     ]
    }
   ],
   "source": [
    "sn1 = {1,2,3,4,5}\n",
    "sn2 = {4,5,6,7,8}\n",
    "kesisim = sn1.intersection(sn2)\n",
    "print(f\"Kesişimleri : {kesisim}\")\n",
    "fark1 = sn1.difference(sn2)\n",
    "fark2 = sn2.difference(sn1)\n",
    "print(f\"sn1 in sn2 den farkı : {fark1}\")\n",
    "print(f\"sn2 in sn1 den farkı : {fark2}\")\n",
    "birlesim = sn1.union(sn2)\n",
    "print(f\"Birleşimleri : {birlesim}\")\n",
    "# 3.Problemin Çözümünü Buraya Yazınız"
   ]
  },
  {
   "cell_type": "markdown",
   "metadata": {},
   "source": [
    "# Problem 4\n",
    "\n",
    "Buradaki işlemlerimizin tamamı stringler içindir. Aşağıda verilecek olan metodlar için kendinizin örnek yaratması gerekmektedir. \n",
    "\n",
    "Örneğin `upper` için `string` değişkeni oluştururken` k = \"BAC\"` şeklinde oluşturmayınız. Bunun yerine k değişkenini `k = \"bac`\" şeklinde oluşturmanız `upper` metodundaki değişimi görebilmeniz için daha iyi olacaktır.\n",
    "\n",
    "Bütün metodlardaki değişimin gözle görülür şekilde değişimi beklenmektedir.\n",
    "\n",
    "\n",
    "1- capitalize(), lower(), upper(), swapcase(), title(), replace()\n",
    "\n",
    "2- endswith(), startswith(), find(), index(), count()\n",
    "\n",
    "3- split(), strip(), join(), islower(), isalpha(), isdigit()\n",
    "\n",
    "\n",
    "Yukarıdaki `string` metodlarındaki değişimleri görebildiğimiz bir program yazınız.\n"
   ]
  },
  {
   "cell_type": "code",
   "execution_count": 32,
   "metadata": {},
   "outputs": [
    {
     "name": "stdout",
     "output_type": "stream",
     "text": [
      "Benim adım nehir.\n",
      "benim adım nehir.\n",
      "BENIM ADIM NEHIR.\n",
      "bENIM ADIM nEHIR.\n",
      "Benim Adım Nehir.\n",
      "Benim ismim Nehir.\n",
      "False\n",
      "True\n",
      "11\n",
      "6\n",
      "2\n",
      "['Benim', 'adım', 'Nehir.']\n",
      "Benim adım Nehir.\n",
      "Benim*adım*Nehir\n",
      "False\n",
      "False\n",
      "False\n"
     ]
    }
   ],
   "source": [
    "#1\n",
    "k = \"Benim adım Nehir.\"\n",
    "print(k.capitalize())\n",
    "print(k.lower())\n",
    "print(k.upper())\n",
    "print(k.swapcase())\n",
    "print(k.title())\n",
    "print(k.replace(\"adım\",\"ismim\"))\n",
    "#2\n",
    "print(k.endswith(\"Demir\"))\n",
    "print(k.startswith(\"Benim\"))\n",
    "print(k.find(\"Nehir\"))\n",
    "print(k.index(\"adım\"))\n",
    "print(k.count(\"i\"))\n",
    "#3\n",
    "print(k.split(\" \"))\n",
    "k = \"                 Benim adım Nehir.               \"\n",
    "print(k.strip())\n",
    "x = (\"Benim\",\"adım\",\"Nehir\")\n",
    "print(\"*\".join(x))\n",
    "print(k.islower())\n",
    "print(k.isalpha())\n",
    "print(k.isdigit())\n",
    "# 4.Problemin Çözümünü Buraya Yazınız"
   ]
  }
 ],
 "metadata": {
  "kernelspec": {
   "display_name": "Python 3.10.5 64-bit",
   "language": "python",
   "name": "python3"
  },
  "language_info": {
   "codemirror_mode": {
    "name": "ipython",
    "version": 3
   },
   "file_extension": ".py",
   "mimetype": "text/x-python",
   "name": "python",
   "nbconvert_exporter": "python",
   "pygments_lexer": "ipython3",
   "version": "3.12.3"
  },
  "orig_nbformat": 4,
  "vscode": {
   "interpreter": {
    "hash": "5026d2d6e7aaaaba093def813beadff083d8733e4a511af01735cbabd156995d"
   }
  }
 },
 "nbformat": 4,
 "nbformat_minor": 2
}
